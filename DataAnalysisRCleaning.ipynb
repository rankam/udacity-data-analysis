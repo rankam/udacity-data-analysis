{
 "metadata": {
  "name": "",
  "signature": "sha256:958bc9ca1f5706aa5aa6910b82fe50474c2f19f6523b4defda0b80cb022bedc2"
 },
 "nbformat": 3,
 "nbformat_minor": 0,
 "worksheets": [
  {
   "cells": [
    {
     "cell_type": "code",
     "collapsed": false,
     "input": [
      "import pandas as pd\n",
      "import numpy as np\n",
      "import string\n",
      "from bs4 import BeautifulSoup\n",
      "import requests"
     ],
     "language": "python",
     "metadata": {},
     "outputs": [],
     "prompt_number": 1
    },
    {
     "cell_type": "code",
     "collapsed": false,
     "input": [
      "data = pd.read_csv('ohio_election.csv')\n",
      "# data.head()"
     ],
     "language": "python",
     "metadata": {},
     "outputs": [
      {
       "output_type": "stream",
       "stream": "stderr",
       "text": [
        "/Users/aaronrank/anaconda/lib/python2.7/site-packages/pandas/io/parsers.py:1130: DtypeWarning: Columns (7,12) have mixed types. Specify dtype option on import or set low_memory=False.\n",
        "  data = self._reader.read(nrows)\n"
       ]
      }
     ],
     "prompt_number": 2
    },
    {
     "cell_type": "code",
     "collapsed": false,
     "input": [
      "occupations = set(data.contbr_occupation)"
     ],
     "language": "python",
     "metadata": {},
     "outputs": [],
     "prompt_number": 69
    },
    {
     "cell_type": "code",
     "collapsed": false,
     "input": [
      "def remove_punc(wordlist):\n",
      "    punc = [x for x in string.punctuation]\n",
      "    punc.remove('/')\n",
      "    new_word_list = list()\n",
      "    for word in wordlist:\n",
      "        word = str(word)\n",
      "        for p in punc:\n",
      "            if p in word:\n",
      "                word = word.replace(p,'')\n",
      "        new_word_list.append(word)\n",
      "    return new_word_list"
     ],
     "language": "python",
     "metadata": {},
     "outputs": [],
     "prompt_number": 3
    },
    {
     "cell_type": "code",
     "collapsed": false,
     "input": [
      "data['contbr_occupation'] = remove_punc(data['contbr_occupation'])"
     ],
     "language": "python",
     "metadata": {},
     "outputs": [],
     "prompt_number": 4
    },
    {
     "cell_type": "code",
     "collapsed": false,
     "input": [
      "def get_salary_estimate(job_title, zip_code):\n",
      "    url = 'http://www.indeed.com/salary?q1=%s&l1=%s&tm=1' % (job_title,zip_code,)\n",
      "    soup= BeautifulSoup(requests.get(url).text)\n",
      "    salary = soup.findAll(\"span\",class_=\"salary\")[0].text.replace('$','').replace(',','')\n",
      "    return salary"
     ],
     "language": "python",
     "metadata": {},
     "outputs": [],
     "prompt_number": 5
    },
    {
     "cell_type": "code",
     "collapsed": false,
     "input": [
      "def add_salary_estimate(df):\n",
      "    ct = [1000,10000,25000,50000,75000,100000]\n",
      "    df['estimated_salary'] = np.nan\n",
      "    errors = list()\n",
      "    for i in range(len(df)):\n",
      "        if i in ct:\n",
      "            print i\n",
      "        try:\n",
      "            df.iloc[i,-1] = get_salary_estimate(df.iloc[i].contbr_occupation, str(df.iloc[i].contbr_zip).replace('.0',''))\n",
      "        except:\n",
      "            errors.append({i:[df.iloc[i].contbr_occupation, str(df.iloc[i].contbr_zip).replace('.0','')]})\n",
      "    return df, errors"
     ],
     "language": "python",
     "metadata": {},
     "outputs": [],
     "prompt_number": 7
    },
    {
     "cell_type": "code",
     "collapsed": false,
     "input": [
      "data_w_salary,errors = add_salary_estimate(data)"
     ],
     "language": "python",
     "metadata": {},
     "outputs": [
      {
       "output_type": "stream",
       "stream": "stdout",
       "text": [
        "1000\n",
        "10000"
       ]
      },
      {
       "output_type": "stream",
       "stream": "stdout",
       "text": [
        "\n",
        "25000"
       ]
      },
      {
       "output_type": "stream",
       "stream": "stdout",
       "text": [
        "\n",
        "50000"
       ]
      },
      {
       "output_type": "stream",
       "stream": "stdout",
       "text": [
        "\n",
        "75000"
       ]
      },
      {
       "output_type": "stream",
       "stream": "stdout",
       "text": [
        "\n",
        "100000"
       ]
      },
      {
       "output_type": "stream",
       "stream": "stdout",
       "text": [
        "\n"
       ]
      }
     ],
     "prompt_number": 8
    },
    {
     "cell_type": "code",
     "collapsed": false,
     "input": [
      "data_w_salary.to_csv('data_w_salary.csv')"
     ],
     "language": "python",
     "metadata": {},
     "outputs": [],
     "prompt_number": 9
    },
    {
     "cell_type": "code",
     "collapsed": false,
     "input": [
      "data_w_salary['estimated_salary'] = [float(x) if x != 'No Data ' else np.nan for x in data_w_salary['estimated_salary']]"
     ],
     "language": "python",
     "metadata": {},
     "outputs": [
      {
       "ename": "ValueError",
       "evalue": "could not convert string to float: No Data ",
       "output_type": "pyerr",
       "traceback": [
        "\u001b[0;31m---------------------------------------------------------------------------\u001b[0m\n\u001b[0;31mValueError\u001b[0m                                Traceback (most recent call last)",
        "\u001b[0;32m<ipython-input-14-c96f977e0fdb>\u001b[0m in \u001b[0;36m<module>\u001b[0;34m()\u001b[0m\n\u001b[0;32m----> 1\u001b[0;31m \u001b[0mdata_w_salary\u001b[0m\u001b[0;34m[\u001b[0m\u001b[0;34m'estimated_salary'\u001b[0m\u001b[0;34m]\u001b[0m \u001b[0;34m=\u001b[0m \u001b[0;34m[\u001b[0m\u001b[0mfloat\u001b[0m\u001b[0;34m(\u001b[0m\u001b[0mx\u001b[0m\u001b[0;34m)\u001b[0m \u001b[0;32mif\u001b[0m \u001b[0mx\u001b[0m \u001b[0;34m!=\u001b[0m \u001b[0;34m'No Data'\u001b[0m \u001b[0;32melse\u001b[0m \u001b[0mnp\u001b[0m\u001b[0;34m.\u001b[0m\u001b[0mnan\u001b[0m \u001b[0;32mfor\u001b[0m \u001b[0mx\u001b[0m \u001b[0;32min\u001b[0m \u001b[0mdata_w_salary\u001b[0m\u001b[0;34m[\u001b[0m\u001b[0;34m'estimated_salary'\u001b[0m\u001b[0;34m]\u001b[0m\u001b[0;34m]\u001b[0m\u001b[0;34m\u001b[0m\u001b[0m\n\u001b[0m",
        "\u001b[0;31mValueError\u001b[0m: could not convert string to float: No Data "
       ]
      }
     ],
     "prompt_number": 14
    },
    {
     "cell_type": "code",
     "collapsed": false,
     "input": [
      "data_w_salary['estimated_salary'][6]"
     ],
     "language": "python",
     "metadata": {},
     "outputs": [
      {
       "metadata": {},
       "output_type": "pyout",
       "prompt_number": 17,
       "text": [
        "u'No Data '"
       ]
      }
     ],
     "prompt_number": 17
    },
    {
     "cell_type": "code",
     "collapsed": false,
     "input": [
      "no_data = data_w_salary[data_w_salary['estimated_salary'] != 'No Data ']"
     ],
     "language": "python",
     "metadata": {},
     "outputs": [],
     "prompt_number": 25
    },
    {
     "cell_type": "code",
     "collapsed": false,
     "input": [
      "data = pd.read_csv('data_w_salary.csv')\n",
      "data.head()"
     ],
     "language": "python",
     "metadata": {},
     "outputs": [
      {
       "output_type": "stream",
       "stream": "stderr",
       "text": [
        "/Users/aaronrank/anaconda/lib/python2.7/site-packages/pandas/io/parsers.py:1130: DtypeWarning: Columns (8,13) have mixed types. Specify dtype option on import or set low_memory=False.\n",
        "  data = self._reader.read(nrows)\n"
       ]
      },
      {
       "html": [
        "<div style=\"max-height:1000px;max-width:1500px;overflow:auto;\">\n",
        "<table border=\"1\" class=\"dataframe\">\n",
        "  <thead>\n",
        "    <tr style=\"text-align: right;\">\n",
        "      <th></th>\n",
        "      <th>Unnamed: 0</th>\n",
        "      <th>Unnamed: 0.1</th>\n",
        "      <th>cmte_id</th>\n",
        "      <th>cand_id</th>\n",
        "      <th>cand_nm</th>\n",
        "      <th>contbr_nm</th>\n",
        "      <th>contbr_city</th>\n",
        "      <th>contbr_st</th>\n",
        "      <th>contbr_zip</th>\n",
        "      <th>contbr_employer</th>\n",
        "      <th>...</th>\n",
        "      <th>file_num</th>\n",
        "      <th>tran_id</th>\n",
        "      <th>election_tp</th>\n",
        "      <th>population</th>\n",
        "      <th>elect_delta</th>\n",
        "      <th>cand_party</th>\n",
        "      <th>contb_bins</th>\n",
        "      <th>pop_bins</th>\n",
        "      <th>elect_delta_bins</th>\n",
        "      <th>estimated_salary</th>\n",
        "    </tr>\n",
        "  </thead>\n",
        "  <tbody>\n",
        "    <tr>\n",
        "      <th>0</th>\n",
        "      <td> 0</td>\n",
        "      <td> 1</td>\n",
        "      <td> C00431171</td>\n",
        "      <td> P80003353</td>\n",
        "      <td> Romney, Mitt</td>\n",
        "      <td> SMITH, STEPHEN C. MR.</td>\n",
        "      <td>         FINDLAY</td>\n",
        "      <td> OH</td>\n",
        "      <td> 45840</td>\n",
        "      <td> AQUA-LINE INC.</td>\n",
        "      <td>...</td>\n",
        "      <td> 896743</td>\n",
        "      <td> SA17.1995556</td>\n",
        "      <td> P2012</td>\n",
        "      <td>  41512</td>\n",
        "      <td> 85</td>\n",
        "      <td> R</td>\n",
        "      <td>    (0,50]</td>\n",
        "      <td> (2.5e+04,5e+04]</td>\n",
        "      <td> (30,90]</td>\n",
        "      <td> 54000 </td>\n",
        "    </tr>\n",
        "    <tr>\n",
        "      <th>1</th>\n",
        "      <td> 1</td>\n",
        "      <td> 2</td>\n",
        "      <td> C00431171</td>\n",
        "      <td> P80003353</td>\n",
        "      <td> Romney, Mitt</td>\n",
        "      <td> SMITH, STEPHEN C. MR.</td>\n",
        "      <td>         FINDLAY</td>\n",
        "      <td> OH</td>\n",
        "      <td> 45840</td>\n",
        "      <td> AQUA-LINE INC.</td>\n",
        "      <td>...</td>\n",
        "      <td> 896743</td>\n",
        "      <td> SA17.2184389</td>\n",
        "      <td> P2012</td>\n",
        "      <td>  41512</td>\n",
        "      <td> 75</td>\n",
        "      <td> R</td>\n",
        "      <td>    (0,50]</td>\n",
        "      <td> (2.5e+04,5e+04]</td>\n",
        "      <td> (30,90]</td>\n",
        "      <td> 54000 </td>\n",
        "    </tr>\n",
        "    <tr>\n",
        "      <th>2</th>\n",
        "      <td> 2</td>\n",
        "      <td> 3</td>\n",
        "      <td> C00431171</td>\n",
        "      <td> P80003353</td>\n",
        "      <td> Romney, Mitt</td>\n",
        "      <td>         SMITH, TRAVIS</td>\n",
        "      <td> UPPER ARLINGTON</td>\n",
        "      <td> OH</td>\n",
        "      <td> 43221</td>\n",
        "      <td>        HMI INC</td>\n",
        "      <td>...</td>\n",
        "      <td> 896743</td>\n",
        "      <td> SA17.2147759</td>\n",
        "      <td> G2012</td>\n",
        "      <td>  34420</td>\n",
        "      <td> 75</td>\n",
        "      <td> R</td>\n",
        "      <td>  (50,100]</td>\n",
        "      <td> (2.5e+04,5e+04]</td>\n",
        "      <td> (30,90]</td>\n",
        "      <td> 43000 </td>\n",
        "    </tr>\n",
        "    <tr>\n",
        "      <th>3</th>\n",
        "      <td> 3</td>\n",
        "      <td> 4</td>\n",
        "      <td> C00431171</td>\n",
        "      <td> P80003353</td>\n",
        "      <td> Romney, Mitt</td>\n",
        "      <td>      STEINER, GREGORY</td>\n",
        "      <td>         WOOSTER</td>\n",
        "      <td> OH</td>\n",
        "      <td> 44691</td>\n",
        "      <td>    FLIGHT BOSS</td>\n",
        "      <td>...</td>\n",
        "      <td> 896743</td>\n",
        "      <td> SA17.1850253</td>\n",
        "      <td> P2012</td>\n",
        "      <td>  26384</td>\n",
        "      <td> 89</td>\n",
        "      <td> R</td>\n",
        "      <td> (100,250]</td>\n",
        "      <td> (2.5e+04,5e+04]</td>\n",
        "      <td> (30,90]</td>\n",
        "      <td> 21000 </td>\n",
        "    </tr>\n",
        "    <tr>\n",
        "      <th>4</th>\n",
        "      <td> 4</td>\n",
        "      <td> 5</td>\n",
        "      <td> C00431171</td>\n",
        "      <td> P80003353</td>\n",
        "      <td> Romney, Mitt</td>\n",
        "      <td>     SUPRENANT, ALBERT</td>\n",
        "      <td>          DAYTON</td>\n",
        "      <td> OH</td>\n",
        "      <td> 45458</td>\n",
        "      <td>    THE LIMITED</td>\n",
        "      <td>...</td>\n",
        "      <td> 896743</td>\n",
        "      <td> SA17.2253693</td>\n",
        "      <td> G2012</td>\n",
        "      <td> 143355</td>\n",
        "      <td> 69</td>\n",
        "      <td> R</td>\n",
        "      <td> (100,250]</td>\n",
        "      <td>   (1e+05,5e+05]</td>\n",
        "      <td> (30,90]</td>\n",
        "      <td> 71000 </td>\n",
        "    </tr>\n",
        "  </tbody>\n",
        "</table>\n",
        "<p>5 rows \u00d7 27 columns</p>\n",
        "</div>"
       ],
       "metadata": {},
       "output_type": "pyout",
       "prompt_number": 2,
       "text": [
        "   Unnamed: 0  Unnamed: 0.1    cmte_id    cand_id       cand_nm  \\\n",
        "0           0             1  C00431171  P80003353  Romney, Mitt   \n",
        "1           1             2  C00431171  P80003353  Romney, Mitt   \n",
        "2           2             3  C00431171  P80003353  Romney, Mitt   \n",
        "3           3             4  C00431171  P80003353  Romney, Mitt   \n",
        "4           4             5  C00431171  P80003353  Romney, Mitt   \n",
        "\n",
        "               contbr_nm      contbr_city contbr_st contbr_zip  \\\n",
        "0  SMITH, STEPHEN C. MR.          FINDLAY        OH      45840   \n",
        "1  SMITH, STEPHEN C. MR.          FINDLAY        OH      45840   \n",
        "2          SMITH, TRAVIS  UPPER ARLINGTON        OH      43221   \n",
        "3       STEINER, GREGORY          WOOSTER        OH      44691   \n",
        "4      SUPRENANT, ALBERT           DAYTON        OH      45458   \n",
        "\n",
        "  contbr_employer       ...       file_num       tran_id election_tp  \\\n",
        "0  AQUA-LINE INC.       ...         896743  SA17.1995556       P2012   \n",
        "1  AQUA-LINE INC.       ...         896743  SA17.2184389       P2012   \n",
        "2         HMI INC       ...         896743  SA17.2147759       G2012   \n",
        "3     FLIGHT BOSS       ...         896743  SA17.1850253       P2012   \n",
        "4     THE LIMITED       ...         896743  SA17.2253693       G2012   \n",
        "\n",
        "  population elect_delta cand_party contb_bins         pop_bins  \\\n",
        "0      41512          85          R     (0,50]  (2.5e+04,5e+04]   \n",
        "1      41512          75          R     (0,50]  (2.5e+04,5e+04]   \n",
        "2      34420          75          R   (50,100]  (2.5e+04,5e+04]   \n",
        "3      26384          89          R  (100,250]  (2.5e+04,5e+04]   \n",
        "4     143355          69          R  (100,250]    (1e+05,5e+05]   \n",
        "\n",
        "  elect_delta_bins estimated_salary  \n",
        "0          (30,90]           54000   \n",
        "1          (30,90]           54000   \n",
        "2          (30,90]           43000   \n",
        "3          (30,90]           21000   \n",
        "4          (30,90]           71000   \n",
        "\n",
        "[5 rows x 27 columns]"
       ]
      }
     ],
     "prompt_number": 2
    },
    {
     "cell_type": "code",
     "collapsed": false,
     "input": [
      "gender = pd.read_csv('data_gender_predicted.csv')"
     ],
     "language": "python",
     "metadata": {},
     "outputs": [
      {
       "output_type": "stream",
       "stream": "stderr",
       "text": [
        "/Users/aaronrank/anaconda/lib/python2.7/site-packages/pandas/io/parsers.py:1130: DtypeWarning: Columns (12) have mixed types. Specify dtype option on import or set low_memory=False.\n",
        "  data = self._reader.read(nrows)\n"
       ]
      }
     ],
     "prompt_number": 4
    },
    {
     "cell_type": "code",
     "collapsed": false,
     "input": [
      "data['gender'] = gender.predicted_gender"
     ],
     "language": "python",
     "metadata": {},
     "outputs": [],
     "prompt_number": 9
    },
    {
     "cell_type": "code",
     "collapsed": false,
     "input": [
      "x=pd.read_csv('data_w_salary_gender.csv')"
     ],
     "language": "python",
     "metadata": {},
     "outputs": [
      {
       "output_type": "stream",
       "stream": "stderr",
       "text": [
        "/Users/aaronrank/anaconda/lib/python2.7/site-packages/pandas/io/parsers.py:1130: DtypeWarning: Columns (9,14) have mixed types. Specify dtype option on import or set low_memory=False.\n",
        "  data = self._reader.read(nrows)\n"
       ]
      }
     ],
     "prompt_number": 11
    },
    {
     "cell_type": "code",
     "collapsed": false,
     "input": [
      "x.head()"
     ],
     "language": "python",
     "metadata": {},
     "outputs": [
      {
       "html": [
        "<div style=\"max-height:1000px;max-width:1500px;overflow:auto;\">\n",
        "<table border=\"1\" class=\"dataframe\">\n",
        "  <thead>\n",
        "    <tr style=\"text-align: right;\">\n",
        "      <th></th>\n",
        "      <th>Unnamed: 0</th>\n",
        "      <th>Unnamed: 0.1</th>\n",
        "      <th>Unnamed: 0.1</th>\n",
        "      <th>cmte_id</th>\n",
        "      <th>cand_id</th>\n",
        "      <th>cand_nm</th>\n",
        "      <th>contbr_nm</th>\n",
        "      <th>contbr_city</th>\n",
        "      <th>contbr_st</th>\n",
        "      <th>contbr_zip</th>\n",
        "      <th>...</th>\n",
        "      <th>tran_id</th>\n",
        "      <th>election_tp</th>\n",
        "      <th>population</th>\n",
        "      <th>elect_delta</th>\n",
        "      <th>cand_party</th>\n",
        "      <th>contb_bins</th>\n",
        "      <th>pop_bins</th>\n",
        "      <th>elect_delta_bins</th>\n",
        "      <th>estimated_salary</th>\n",
        "      <th>gender</th>\n",
        "    </tr>\n",
        "  </thead>\n",
        "  <tbody>\n",
        "    <tr>\n",
        "      <th>0</th>\n",
        "      <td> 0</td>\n",
        "      <td> 1</td>\n",
        "      <td> 1</td>\n",
        "      <td> C00431171</td>\n",
        "      <td> P80003353</td>\n",
        "      <td> Romney, Mitt</td>\n",
        "      <td> SMITH, STEPHEN C. MR.</td>\n",
        "      <td>         FINDLAY</td>\n",
        "      <td> OH</td>\n",
        "      <td> 45840</td>\n",
        "      <td>...</td>\n",
        "      <td> SA17.1995556</td>\n",
        "      <td> P2012</td>\n",
        "      <td>  41512</td>\n",
        "      <td> 85</td>\n",
        "      <td> R</td>\n",
        "      <td>    (0,50]</td>\n",
        "      <td> (2.5e+04,5e+04]</td>\n",
        "      <td> (30,90]</td>\n",
        "      <td> 54000 </td>\n",
        "      <td> male</td>\n",
        "    </tr>\n",
        "    <tr>\n",
        "      <th>1</th>\n",
        "      <td> 1</td>\n",
        "      <td> 2</td>\n",
        "      <td> 2</td>\n",
        "      <td> C00431171</td>\n",
        "      <td> P80003353</td>\n",
        "      <td> Romney, Mitt</td>\n",
        "      <td> SMITH, STEPHEN C. MR.</td>\n",
        "      <td>         FINDLAY</td>\n",
        "      <td> OH</td>\n",
        "      <td> 45840</td>\n",
        "      <td>...</td>\n",
        "      <td> SA17.2184389</td>\n",
        "      <td> P2012</td>\n",
        "      <td>  41512</td>\n",
        "      <td> 75</td>\n",
        "      <td> R</td>\n",
        "      <td>    (0,50]</td>\n",
        "      <td> (2.5e+04,5e+04]</td>\n",
        "      <td> (30,90]</td>\n",
        "      <td> 54000 </td>\n",
        "      <td> male</td>\n",
        "    </tr>\n",
        "    <tr>\n",
        "      <th>2</th>\n",
        "      <td> 2</td>\n",
        "      <td> 3</td>\n",
        "      <td> 3</td>\n",
        "      <td> C00431171</td>\n",
        "      <td> P80003353</td>\n",
        "      <td> Romney, Mitt</td>\n",
        "      <td>         SMITH, TRAVIS</td>\n",
        "      <td> UPPER ARLINGTON</td>\n",
        "      <td> OH</td>\n",
        "      <td> 43221</td>\n",
        "      <td>...</td>\n",
        "      <td> SA17.2147759</td>\n",
        "      <td> G2012</td>\n",
        "      <td>  34420</td>\n",
        "      <td> 75</td>\n",
        "      <td> R</td>\n",
        "      <td>  (50,100]</td>\n",
        "      <td> (2.5e+04,5e+04]</td>\n",
        "      <td> (30,90]</td>\n",
        "      <td> 43000 </td>\n",
        "      <td> male</td>\n",
        "    </tr>\n",
        "    <tr>\n",
        "      <th>3</th>\n",
        "      <td> 3</td>\n",
        "      <td> 4</td>\n",
        "      <td> 4</td>\n",
        "      <td> C00431171</td>\n",
        "      <td> P80003353</td>\n",
        "      <td> Romney, Mitt</td>\n",
        "      <td>      STEINER, GREGORY</td>\n",
        "      <td>         WOOSTER</td>\n",
        "      <td> OH</td>\n",
        "      <td> 44691</td>\n",
        "      <td>...</td>\n",
        "      <td> SA17.1850253</td>\n",
        "      <td> P2012</td>\n",
        "      <td>  26384</td>\n",
        "      <td> 89</td>\n",
        "      <td> R</td>\n",
        "      <td> (100,250]</td>\n",
        "      <td> (2.5e+04,5e+04]</td>\n",
        "      <td> (30,90]</td>\n",
        "      <td> 21000 </td>\n",
        "      <td> male</td>\n",
        "    </tr>\n",
        "    <tr>\n",
        "      <th>4</th>\n",
        "      <td> 4</td>\n",
        "      <td> 5</td>\n",
        "      <td> 5</td>\n",
        "      <td> C00431171</td>\n",
        "      <td> P80003353</td>\n",
        "      <td> Romney, Mitt</td>\n",
        "      <td>     SUPRENANT, ALBERT</td>\n",
        "      <td>          DAYTON</td>\n",
        "      <td> OH</td>\n",
        "      <td> 45458</td>\n",
        "      <td>...</td>\n",
        "      <td> SA17.2253693</td>\n",
        "      <td> G2012</td>\n",
        "      <td> 143355</td>\n",
        "      <td> 69</td>\n",
        "      <td> R</td>\n",
        "      <td> (100,250]</td>\n",
        "      <td>   (1e+05,5e+05]</td>\n",
        "      <td> (30,90]</td>\n",
        "      <td> 71000 </td>\n",
        "      <td> male</td>\n",
        "    </tr>\n",
        "  </tbody>\n",
        "</table>\n",
        "<p>5 rows \u00d7 29 columns</p>\n",
        "</div>"
       ],
       "metadata": {},
       "output_type": "pyout",
       "prompt_number": 12,
       "text": [
        "   Unnamed: 0  Unnamed: 0.1  Unnamed: 0.1    cmte_id    cand_id       cand_nm  \\\n",
        "0           0             1             1  C00431171  P80003353  Romney, Mitt   \n",
        "1           1             2             2  C00431171  P80003353  Romney, Mitt   \n",
        "2           2             3             3  C00431171  P80003353  Romney, Mitt   \n",
        "3           3             4             4  C00431171  P80003353  Romney, Mitt   \n",
        "4           4             5             5  C00431171  P80003353  Romney, Mitt   \n",
        "\n",
        "               contbr_nm      contbr_city contbr_st contbr_zip    ...      \\\n",
        "0  SMITH, STEPHEN C. MR.          FINDLAY        OH      45840    ...       \n",
        "1  SMITH, STEPHEN C. MR.          FINDLAY        OH      45840    ...       \n",
        "2          SMITH, TRAVIS  UPPER ARLINGTON        OH      43221    ...       \n",
        "3       STEINER, GREGORY          WOOSTER        OH      44691    ...       \n",
        "4      SUPRENANT, ALBERT           DAYTON        OH      45458    ...       \n",
        "\n",
        "        tran_id election_tp  population elect_delta cand_party contb_bins  \\\n",
        "0  SA17.1995556       P2012       41512          85          R     (0,50]   \n",
        "1  SA17.2184389       P2012       41512          75          R     (0,50]   \n",
        "2  SA17.2147759       G2012       34420          75          R   (50,100]   \n",
        "3  SA17.1850253       P2012       26384          89          R  (100,250]   \n",
        "4  SA17.2253693       G2012      143355          69          R  (100,250]   \n",
        "\n",
        "          pop_bins elect_delta_bins  estimated_salary gender  \n",
        "0  (2.5e+04,5e+04]          (30,90]            54000    male  \n",
        "1  (2.5e+04,5e+04]          (30,90]            54000    male  \n",
        "2  (2.5e+04,5e+04]          (30,90]            43000    male  \n",
        "3  (2.5e+04,5e+04]          (30,90]            21000    male  \n",
        "4    (1e+05,5e+05]          (30,90]            71000    male  \n",
        "\n",
        "[5 rows x 29 columns]"
       ]
      }
     ],
     "prompt_number": 12
    },
    {
     "cell_type": "code",
     "collapsed": false,
     "input": [
      "x.columns"
     ],
     "language": "python",
     "metadata": {},
     "outputs": [
      {
       "metadata": {},
       "output_type": "pyout",
       "prompt_number": 14,
       "text": [
        "Index([u'Unnamed: 0', u'Unnamed: 0.1', u'Unnamed: 0.1', u'cmte_id', u'cand_id', u'cand_nm', u'contbr_nm', u'contbr_city', u'contbr_st', u'contbr_zip', u'contbr_employer', u'contbr_occupation', u'contb_receipt_amt', u'contb_receipt_dt', u'receipt_desc', u'memo_cd', u'memo_text', u'form_tp', u'file_num', u'tran_id', u'election_tp', u'population', u'elect_delta', u'cand_party', u'contb_bins', u'pop_bins', u'elect_delta_bins', u'estimated_salary', u'gender'], dtype='object')"
       ]
      }
     ],
     "prompt_number": 14
    },
    {
     "cell_type": "code",
     "collapsed": false,
     "input": [
      "y = x[list(x.columns)[3:]]"
     ],
     "language": "python",
     "metadata": {},
     "outputs": [],
     "prompt_number": 17
    },
    {
     "cell_type": "code",
     "collapsed": false,
     "input": [
      "y = pd.read_csv('data_w_salary_gender.csv')"
     ],
     "language": "python",
     "metadata": {},
     "outputs": [
      {
       "output_type": "stream",
       "stream": "stderr",
       "text": [
        "/Users/aaronrank/anaconda/lib/python2.7/site-packages/pandas/io/parsers.py:1130: DtypeWarning: Columns (7,12) have mixed types. Specify dtype option on import or set low_memory=False.\n",
        "  data = self._reader.read(nrows)\n"
       ]
      }
     ],
     "prompt_number": 4
    },
    {
     "cell_type": "code",
     "collapsed": false,
     "input": [
      "import demographica as dm"
     ],
     "language": "python",
     "metadata": {},
     "outputs": [],
     "prompt_number": 75
    },
    {
     "cell_type": "code",
     "collapsed": false,
     "input": [
      "def get_first_name(name):\n",
      "    first_name = name.split()[1].replace(',','').replace('.','')\n",
      "    if len(first_name) <2:\n",
      "        try:\n",
      "            first_name = name.split()[2].replace(',','').replace('.','')\n",
      "        except:\n",
      "            first_name = name.split()[1].replace(',','').replace('.','')\n",
      "    return first_name"
     ],
     "language": "python",
     "metadata": {},
     "outputs": [],
     "prompt_number": 394
    },
    {
     "cell_type": "code",
     "collapsed": false,
     "input": [
      "y['first_name'] = [get_first_name(name) for name in y.contbr_nm]"
     ],
     "language": "python",
     "metadata": {},
     "outputs": [],
     "prompt_number": 395
    },
    {
     "cell_type": "code",
     "collapsed": false,
     "input": [
      "age_bins = list()\n",
      "ct = 0\n",
      "cant_vote = ['04 and under', '05 to 09 years', '10 to 14 years', '15 to 19 years']\n",
      "combined_dists = {'60 to 64 years':'50 and over', '30 to 34 years':'30 to 40', '50 to 54 years':'50 and over',\n",
      "       '80 to 84 years':'50 and over', '40 to 44 years':'40 to 49', '55 to 59 years':'50 and over',\n",
      "       '20 to 24 years':'Under 30', '65 to 69 years':'50 and over', '25 to 29 years':'Under 30', 'NA':'NA',\n",
      "       '45 to 49 years':'40 to 49', '75 to 79 years':'50 and over', '70 to 74 years':'50 and over',\n",
      "       '35 to 39 years':'30 to 39'}\n",
      "for name in y.first_name:\n",
      "    ct = 0 # some names have multiple max distributions - this ensures only the first one gets appended to list\n",
      "    try:\n",
      "        name_dist = dict(dm.NAME_DISTRIBUTIONS.ix[name.capitalize()].iloc[:,0])\n",
      "        for age in cant_vote:\n",
      "            del name_dist[age]\n",
      "        for k,v in name_dist.items(): # essentially allows me to lookup the key by the value\n",
      "            if v == max(name_dist.values()): \n",
      "                if ct < 1: # ensures only the first distribution gets appended to list\n",
      "                    age_bins.append(combined_dists[k])\n",
      "                    ct += 1\n",
      "    except:\n",
      "        age_bins.append('NA')"
     ],
     "language": "python",
     "metadata": {},
     "outputs": [],
     "prompt_number": 504
    },
    {
     "cell_type": "code",
     "collapsed": false,
     "input": [
      "y['age_distribution'] = age_bins"
     ],
     "language": "python",
     "metadata": {},
     "outputs": [],
     "prompt_number": 505
    },
    {
     "cell_type": "code",
     "collapsed": false,
     "input": [
      "for age in y.age_distribution.unique():\n",
      "    y[age] = 0\n",
      "for i,age in enumerate(y.age_distribution):\n",
      "    y[age].iloc[i] = 1\n",
      "    "
     ],
     "language": "python",
     "metadata": {},
     "outputs": [],
     "prompt_number": 506
    },
    {
     "cell_type": "code",
     "collapsed": false,
     "input": [
      "for x in combined_dists.keys():\n",
      "    y.drop(x,axis=1,inplace=True)"
     ],
     "language": "python",
     "metadata": {},
     "outputs": [],
     "prompt_number": 508
    },
    {
     "cell_type": "code",
     "collapsed": false,
     "input": [
      "y.to_csv('data_w_age.csv', index=False)"
     ],
     "language": "python",
     "metadata": {},
     "outputs": [],
     "prompt_number": 509
    },
    {
     "cell_type": "code",
     "collapsed": false,
     "input": [],
     "language": "python",
     "metadata": {},
     "outputs": [
      {
       "html": [
        "<div style=\"max-height:1000px;max-width:1500px;overflow:auto;\">\n",
        "<table border=\"1\" class=\"dataframe\">\n",
        "  <thead>\n",
        "    <tr style=\"text-align: right;\">\n",
        "      <th></th>\n",
        "      <th>cmte_id</th>\n",
        "      <th>cand_id</th>\n",
        "      <th>cand_nm</th>\n",
        "      <th>contbr_nm</th>\n",
        "      <th>contbr_city</th>\n",
        "      <th>contbr_st</th>\n",
        "      <th>contbr_zip</th>\n",
        "      <th>contbr_employer</th>\n",
        "      <th>contbr_occupation</th>\n",
        "      <th>contb_receipt_amt</th>\n",
        "      <th>...</th>\n",
        "      <th>elect_delta_bins</th>\n",
        "      <th>estimated_salary</th>\n",
        "      <th>gender</th>\n",
        "      <th>first_name</th>\n",
        "      <th>age_distribution</th>\n",
        "      <th>50 and over</th>\n",
        "      <th>30 to 40</th>\n",
        "      <th>40 to 49</th>\n",
        "      <th>Under 30</th>\n",
        "      <th>30 to 39</th>\n",
        "    </tr>\n",
        "  </thead>\n",
        "  <tbody>\n",
        "    <tr>\n",
        "      <th>0</th>\n",
        "      <td> C00431171</td>\n",
        "      <td> P80003353</td>\n",
        "      <td> Romney, Mitt</td>\n",
        "      <td> SMITH, STEPHEN C. MR.</td>\n",
        "      <td>         FINDLAY</td>\n",
        "      <td> OH</td>\n",
        "      <td> 45840</td>\n",
        "      <td> AQUA-LINE INC.</td>\n",
        "      <td>    BUSINESS OWNER</td>\n",
        "      <td>  50</td>\n",
        "      <td>...</td>\n",
        "      <td> (30,90]</td>\n",
        "      <td> 54000 </td>\n",
        "      <td> male</td>\n",
        "      <td> STEPHEN</td>\n",
        "      <td> 50 and over</td>\n",
        "      <td> 1</td>\n",
        "      <td> 0</td>\n",
        "      <td> 0</td>\n",
        "      <td> 0</td>\n",
        "      <td> 0</td>\n",
        "    </tr>\n",
        "    <tr>\n",
        "      <th>1</th>\n",
        "      <td> C00431171</td>\n",
        "      <td> P80003353</td>\n",
        "      <td> Romney, Mitt</td>\n",
        "      <td> SMITH, STEPHEN C. MR.</td>\n",
        "      <td>         FINDLAY</td>\n",
        "      <td> OH</td>\n",
        "      <td> 45840</td>\n",
        "      <td> AQUA-LINE INC.</td>\n",
        "      <td>    BUSINESS OWNER</td>\n",
        "      <td>  50</td>\n",
        "      <td>...</td>\n",
        "      <td> (30,90]</td>\n",
        "      <td> 54000 </td>\n",
        "      <td> male</td>\n",
        "      <td> STEPHEN</td>\n",
        "      <td> 50 and over</td>\n",
        "      <td> 1</td>\n",
        "      <td> 0</td>\n",
        "      <td> 0</td>\n",
        "      <td> 0</td>\n",
        "      <td> 0</td>\n",
        "    </tr>\n",
        "    <tr>\n",
        "      <th>2</th>\n",
        "      <td> C00431171</td>\n",
        "      <td> P80003353</td>\n",
        "      <td> Romney, Mitt</td>\n",
        "      <td>         SMITH, TRAVIS</td>\n",
        "      <td> UPPER ARLINGTON</td>\n",
        "      <td> OH</td>\n",
        "      <td> 43221</td>\n",
        "      <td>        HMI INC</td>\n",
        "      <td>             SALES</td>\n",
        "      <td> 100</td>\n",
        "      <td>...</td>\n",
        "      <td> (30,90]</td>\n",
        "      <td> 43000 </td>\n",
        "      <td> male</td>\n",
        "      <td>  TRAVIS</td>\n",
        "      <td>    30 to 40</td>\n",
        "      <td> 0</td>\n",
        "      <td> 1</td>\n",
        "      <td> 0</td>\n",
        "      <td> 0</td>\n",
        "      <td> 0</td>\n",
        "    </tr>\n",
        "    <tr>\n",
        "      <th>3</th>\n",
        "      <td> C00431171</td>\n",
        "      <td> P80003353</td>\n",
        "      <td> Romney, Mitt</td>\n",
        "      <td>      STEINER, GREGORY</td>\n",
        "      <td>         WOOSTER</td>\n",
        "      <td> OH</td>\n",
        "      <td> 44691</td>\n",
        "      <td>    FLIGHT BOSS</td>\n",
        "      <td>        FABRICATOR</td>\n",
        "      <td> 250</td>\n",
        "      <td>...</td>\n",
        "      <td> (30,90]</td>\n",
        "      <td> 21000 </td>\n",
        "      <td> male</td>\n",
        "      <td> GREGORY</td>\n",
        "      <td> 50 and over</td>\n",
        "      <td> 1</td>\n",
        "      <td> 0</td>\n",
        "      <td> 0</td>\n",
        "      <td> 0</td>\n",
        "      <td> 0</td>\n",
        "    </tr>\n",
        "    <tr>\n",
        "      <th>4</th>\n",
        "      <td> C00431171</td>\n",
        "      <td> P80003353</td>\n",
        "      <td> Romney, Mitt</td>\n",
        "      <td>     SUPRENANT, ALBERT</td>\n",
        "      <td>          DAYTON</td>\n",
        "      <td> OH</td>\n",
        "      <td> 45458</td>\n",
        "      <td>    THE LIMITED</td>\n",
        "      <td> FINANCIAL ANALYST</td>\n",
        "      <td> 250</td>\n",
        "      <td>...</td>\n",
        "      <td> (30,90]</td>\n",
        "      <td> 71000 </td>\n",
        "      <td> male</td>\n",
        "      <td>  ALBERT</td>\n",
        "      <td> 50 and over</td>\n",
        "      <td> 1</td>\n",
        "      <td> 0</td>\n",
        "      <td> 0</td>\n",
        "      <td> 0</td>\n",
        "      <td> 0</td>\n",
        "    </tr>\n",
        "  </tbody>\n",
        "</table>\n",
        "<p>5 rows \u00d7 33 columns</p>\n",
        "</div>"
       ],
       "metadata": {},
       "output_type": "pyout",
       "prompt_number": 510,
       "text": [
        "     cmte_id    cand_id       cand_nm              contbr_nm      contbr_city  \\\n",
        "0  C00431171  P80003353  Romney, Mitt  SMITH, STEPHEN C. MR.          FINDLAY   \n",
        "1  C00431171  P80003353  Romney, Mitt  SMITH, STEPHEN C. MR.          FINDLAY   \n",
        "2  C00431171  P80003353  Romney, Mitt          SMITH, TRAVIS  UPPER ARLINGTON   \n",
        "3  C00431171  P80003353  Romney, Mitt       STEINER, GREGORY          WOOSTER   \n",
        "4  C00431171  P80003353  Romney, Mitt      SUPRENANT, ALBERT           DAYTON   \n",
        "\n",
        "  contbr_st contbr_zip contbr_employer  contbr_occupation  contb_receipt_amt  \\\n",
        "0        OH      45840  AQUA-LINE INC.     BUSINESS OWNER                 50   \n",
        "1        OH      45840  AQUA-LINE INC.     BUSINESS OWNER                 50   \n",
        "2        OH      43221         HMI INC              SALES                100   \n",
        "3        OH      44691     FLIGHT BOSS         FABRICATOR                250   \n",
        "4        OH      45458     THE LIMITED  FINANCIAL ANALYST                250   \n",
        "\n",
        "         ...         elect_delta_bins estimated_salary gender first_name  \\\n",
        "0        ...                  (30,90]           54000    male    STEPHEN   \n",
        "1        ...                  (30,90]           54000    male    STEPHEN   \n",
        "2        ...                  (30,90]           43000    male     TRAVIS   \n",
        "3        ...                  (30,90]           21000    male    GREGORY   \n",
        "4        ...                  (30,90]           71000    male     ALBERT   \n",
        "\n",
        "  age_distribution  50 and over 30 to 40 40 to 49  Under 30  30 to 39  \n",
        "0      50 and over            1        0        0         0         0  \n",
        "1      50 and over            1        0        0         0         0  \n",
        "2         30 to 40            0        1        0         0         0  \n",
        "3      50 and over            1        0        0         0         0  \n",
        "4      50 and over            1        0        0         0         0  \n",
        "\n",
        "[5 rows x 33 columns]"
       ]
      }
     ],
     "prompt_number": 510
    },
    {
     "cell_type": "code",
     "collapsed": false,
     "input": [],
     "language": "python",
     "metadata": {},
     "outputs": []
    },
    {
     "cell_type": "code",
     "collapsed": false,
     "input": [],
     "language": "python",
     "metadata": {},
     "outputs": []
    },
    {
     "cell_type": "code",
     "collapsed": false,
     "input": [
      "len(age_bins)"
     ],
     "language": "python",
     "metadata": {},
     "outputs": [
      {
       "metadata": {},
       "output_type": "pyout",
       "prompt_number": 439,
       "text": [
        "117900"
       ]
      }
     ],
     "prompt_number": 439
    },
    {
     "cell_type": "code",
     "collapsed": false,
     "input": [],
     "language": "python",
     "metadata": {},
     "outputs": []
    },
    {
     "cell_type": "code",
     "collapsed": false,
     "input": [
      "a = set()"
     ],
     "language": "python",
     "metadata": {},
     "outputs": [],
     "prompt_number": 427
    },
    {
     "cell_type": "code",
     "collapsed": false,
     "input": [
      "a.update('d')"
     ],
     "language": "python",
     "metadata": {},
     "outputs": [],
     "prompt_number": 430
    },
    {
     "cell_type": "code",
     "collapsed": false,
     "input": [
      "a"
     ],
     "language": "python",
     "metadata": {},
     "outputs": [
      {
       "metadata": {},
       "output_type": "pyout",
       "prompt_number": 431,
       "text": [
        "{'d'}"
       ]
      }
     ],
     "prompt_number": 431
    },
    {
     "cell_type": "code",
     "collapsed": false,
     "input": [],
     "language": "python",
     "metadata": {},
     "outputs": []
    },
    {
     "cell_type": "code",
     "collapsed": false,
     "input": [],
     "language": "python",
     "metadata": {},
     "outputs": []
    },
    {
     "cell_type": "code",
     "collapsed": false,
     "input": [
      "age_bins[-1]"
     ],
     "language": "python",
     "metadata": {},
     "outputs": [
      {
       "metadata": {},
       "output_type": "pyout",
       "prompt_number": 412,
       "text": [
        "'60 to 64 years'"
       ]
      }
     ],
     "prompt_number": 412
    },
    {
     "cell_type": "code",
     "collapsed": false,
     "input": [
      "len(y.first_name)"
     ],
     "language": "python",
     "metadata": {},
     "outputs": [
      {
       "metadata": {},
       "output_type": "pyout",
       "prompt_number": 413,
       "text": [
        "117900"
       ]
      }
     ],
     "prompt_number": 413
    },
    {
     "cell_type": "code",
     "collapsed": false,
     "input": [
      "y['age_bins'] = age_bins"
     ],
     "language": "python",
     "metadata": {},
     "outputs": [
      {
       "ename": "ValueError",
       "evalue": "Length of values does not match length of index",
       "output_type": "pyerr",
       "traceback": [
        "\u001b[0;31m---------------------------------------------------------------------------\u001b[0m\n\u001b[0;31mValueError\u001b[0m                                Traceback (most recent call last)",
        "\u001b[0;32m<ipython-input-406-23a1efa7d0f9>\u001b[0m in \u001b[0;36m<module>\u001b[0;34m()\u001b[0m\n\u001b[0;32m----> 1\u001b[0;31m \u001b[0my\u001b[0m\u001b[0;34m[\u001b[0m\u001b[0;34m'age_bins'\u001b[0m\u001b[0;34m]\u001b[0m \u001b[0;34m=\u001b[0m \u001b[0mage_bins\u001b[0m\u001b[0;34m\u001b[0m\u001b[0m\n\u001b[0m",
        "\u001b[0;32m/Users/aaronrank/anaconda/lib/python2.7/site-packages/pandas/core/frame.pyc\u001b[0m in \u001b[0;36m__setitem__\u001b[0;34m(self, key, value)\u001b[0m\n\u001b[1;32m   1899\u001b[0m         \u001b[0;32melse\u001b[0m\u001b[0;34m:\u001b[0m\u001b[0;34m\u001b[0m\u001b[0m\n\u001b[1;32m   1900\u001b[0m             \u001b[0;31m# set column\u001b[0m\u001b[0;34m\u001b[0m\u001b[0;34m\u001b[0m\u001b[0m\n\u001b[0;32m-> 1901\u001b[0;31m             \u001b[0mself\u001b[0m\u001b[0;34m.\u001b[0m\u001b[0m_set_item\u001b[0m\u001b[0;34m(\u001b[0m\u001b[0mkey\u001b[0m\u001b[0;34m,\u001b[0m \u001b[0mvalue\u001b[0m\u001b[0;34m)\u001b[0m\u001b[0;34m\u001b[0m\u001b[0m\n\u001b[0m\u001b[1;32m   1902\u001b[0m \u001b[0;34m\u001b[0m\u001b[0m\n\u001b[1;32m   1903\u001b[0m     \u001b[0;32mdef\u001b[0m \u001b[0m_setitem_slice\u001b[0m\u001b[0;34m(\u001b[0m\u001b[0mself\u001b[0m\u001b[0;34m,\u001b[0m \u001b[0mkey\u001b[0m\u001b[0;34m,\u001b[0m \u001b[0mvalue\u001b[0m\u001b[0;34m)\u001b[0m\u001b[0;34m:\u001b[0m\u001b[0;34m\u001b[0m\u001b[0m\n",
        "\u001b[0;32m/Users/aaronrank/anaconda/lib/python2.7/site-packages/pandas/core/frame.pyc\u001b[0m in \u001b[0;36m_set_item\u001b[0;34m(self, key, value)\u001b[0m\n\u001b[1;32m   1981\u001b[0m         \u001b[0mis_existing\u001b[0m \u001b[0;34m=\u001b[0m \u001b[0mkey\u001b[0m \u001b[0;32min\u001b[0m \u001b[0mself\u001b[0m\u001b[0;34m.\u001b[0m\u001b[0mcolumns\u001b[0m\u001b[0;34m\u001b[0m\u001b[0m\n\u001b[1;32m   1982\u001b[0m         \u001b[0mself\u001b[0m\u001b[0;34m.\u001b[0m\u001b[0m_ensure_valid_index\u001b[0m\u001b[0;34m(\u001b[0m\u001b[0mvalue\u001b[0m\u001b[0;34m)\u001b[0m\u001b[0;34m\u001b[0m\u001b[0m\n\u001b[0;32m-> 1983\u001b[0;31m         \u001b[0mvalue\u001b[0m \u001b[0;34m=\u001b[0m \u001b[0mself\u001b[0m\u001b[0;34m.\u001b[0m\u001b[0m_sanitize_column\u001b[0m\u001b[0;34m(\u001b[0m\u001b[0mkey\u001b[0m\u001b[0;34m,\u001b[0m \u001b[0mvalue\u001b[0m\u001b[0;34m)\u001b[0m\u001b[0;34m\u001b[0m\u001b[0m\n\u001b[0m\u001b[1;32m   1984\u001b[0m         \u001b[0mNDFrame\u001b[0m\u001b[0;34m.\u001b[0m\u001b[0m_set_item\u001b[0m\u001b[0;34m(\u001b[0m\u001b[0mself\u001b[0m\u001b[0;34m,\u001b[0m \u001b[0mkey\u001b[0m\u001b[0;34m,\u001b[0m \u001b[0mvalue\u001b[0m\u001b[0;34m)\u001b[0m\u001b[0;34m\u001b[0m\u001b[0m\n\u001b[1;32m   1985\u001b[0m \u001b[0;34m\u001b[0m\u001b[0m\n",
        "\u001b[0;32m/Users/aaronrank/anaconda/lib/python2.7/site-packages/pandas/core/frame.pyc\u001b[0m in \u001b[0;36m_sanitize_column\u001b[0;34m(self, key, value)\u001b[0m\n\u001b[1;32m   2031\u001b[0m         \u001b[0;32melif\u001b[0m \u001b[0misinstance\u001b[0m\u001b[0;34m(\u001b[0m\u001b[0mvalue\u001b[0m\u001b[0;34m,\u001b[0m \u001b[0mIndex\u001b[0m\u001b[0;34m)\u001b[0m \u001b[0;32mor\u001b[0m \u001b[0m_is_sequence\u001b[0m\u001b[0;34m(\u001b[0m\u001b[0mvalue\u001b[0m\u001b[0;34m)\u001b[0m\u001b[0;34m:\u001b[0m\u001b[0;34m\u001b[0m\u001b[0m\n\u001b[1;32m   2032\u001b[0m             \u001b[0;32mif\u001b[0m \u001b[0mlen\u001b[0m\u001b[0;34m(\u001b[0m\u001b[0mvalue\u001b[0m\u001b[0;34m)\u001b[0m \u001b[0;34m!=\u001b[0m \u001b[0mlen\u001b[0m\u001b[0;34m(\u001b[0m\u001b[0mself\u001b[0m\u001b[0;34m.\u001b[0m\u001b[0mindex\u001b[0m\u001b[0;34m)\u001b[0m\u001b[0;34m:\u001b[0m\u001b[0;34m\u001b[0m\u001b[0m\n\u001b[0;32m-> 2033\u001b[0;31m                 raise ValueError('Length of values does not match length of '\n\u001b[0m\u001b[1;32m   2034\u001b[0m                                  'index')\n\u001b[1;32m   2035\u001b[0m \u001b[0;34m\u001b[0m\u001b[0m\n",
        "\u001b[0;31mValueError\u001b[0m: Length of values does not match length of index"
       ]
      }
     ],
     "prompt_number": 406
    },
    {
     "cell_type": "code",
     "collapsed": false,
     "input": [],
     "language": "python",
     "metadata": {},
     "outputs": []
    },
    {
     "cell_type": "code",
     "collapsed": false,
     "input": [
      "r.iteritems()"
     ],
     "language": "python",
     "metadata": {},
     "outputs": [
      {
       "metadata": {},
       "output_type": "pyout",
       "prompt_number": 43,
       "text": [
        "<dictionary-itemiterator at 0x107fbae68>"
       ]
      }
     ],
     "prompt_number": 43
    },
    {
     "cell_type": "code",
     "collapsed": false,
     "input": [
      "a.capitalize()"
     ],
     "language": "python",
     "metadata": {},
     "outputs": [
      {
       "metadata": {},
       "output_type": "pyout",
       "prompt_number": 215,
       "text": [
        "'Asdf'"
       ]
      }
     ],
     "prompt_number": 215
    }
   ],
   "metadata": {}
  }
 ]
}